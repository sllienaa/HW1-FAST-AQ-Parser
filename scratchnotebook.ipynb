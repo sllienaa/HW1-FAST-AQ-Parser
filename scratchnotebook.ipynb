{
 "cells": [
  {
   "cell_type": "code",
   "execution_count": null,
   "id": "06828e9c-3bb8-447c-9929-d5bbde2e65d4",
   "metadata": {},
   "outputs": [],
   "source": [
    "%load_ext autoreload # reloads the file constantly so you don't need to reset\n",
    "%autoreload 2"
   ]
  },
  {
   "cell_type": "code",
   "execution_count": 10,
   "id": "a6e90b31-f335-47a6-9652-6c12c8a71946",
   "metadata": {},
   "outputs": [],
   "source": [
    "import pytest\n",
    "from seqparser import (\n",
    "        FastaParser,\n",
    "        FastqParser)"
   ]
  },
  {
   "cell_type": "code",
   "execution_count": 24,
   "id": "d47e8f52-12ff-4bbe-8867-f00bdf88b7db",
   "metadata": {},
   "outputs": [
    {
     "name": "stdout",
     "output_type": "stream",
     "text": [
      "<seqparser.parse.FastaParser object at 0x7fbff0b5f580>\n"
     ]
    }
   ],
   "source": [
    "parser = FastaParser(\"./data/test.fa\")\n",
    "print(parser)"
   ]
  },
  {
   "cell_type": "code",
   "execution_count": 35,
   "id": "3e8888a4-bd46-456d-85da-faea1197af25",
   "metadata": {},
   "outputs": [
    {
     "name": "stdout",
     "output_type": "stream",
     "text": [
      "<bound method Parser.get_record of <seqparser.parse.FastaParser object at 0x7fbff0b5f580>>\n"
     ]
    },
    {
     "data": {
      "text/plain": [
       "['__class__',\n",
       " '__delattr__',\n",
       " '__dict__',\n",
       " '__dir__',\n",
       " '__doc__',\n",
       " '__eq__',\n",
       " '__format__',\n",
       " '__ge__',\n",
       " '__getattribute__',\n",
       " '__gt__',\n",
       " '__hash__',\n",
       " '__init__',\n",
       " '__init_subclass__',\n",
       " '__iter__',\n",
       " '__le__',\n",
       " '__lt__',\n",
       " '__module__',\n",
       " '__ne__',\n",
       " '__new__',\n",
       " '__reduce__',\n",
       " '__reduce_ex__',\n",
       " '__repr__',\n",
       " '__setattr__',\n",
       " '__sizeof__',\n",
       " '__str__',\n",
       " '__subclasshook__',\n",
       " '__weakref__',\n",
       " '_get_record',\n",
       " '_sequences',\n",
       " 'filename',\n",
       " 'get_record',\n",
       " 'store']"
      ]
     },
     "execution_count": 35,
     "metadata": {},
     "output_type": "execute_result"
    }
   ],
   "source": [
    "print(parser.get_record)\n",
    "dir(parser)"
   ]
  },
  {
   "cell_type": "code",
   "execution_count": 9,
   "id": "7e11b36d-ef67-4d55-a9e3-e9f8bd097704",
   "metadata": {},
   "outputs": [
    {
     "name": "stdout",
     "output_type": "stream",
     "text": [
      "Collecting seqparser\n",
      "  Downloading seqparser-1.1.2-py3-none-any.whl (6.0 kB)\n",
      "Collecting docopt\n",
      "  Downloading docopt-0.6.2.tar.gz (25 kB)\n",
      "  Preparing metadata (setup.py) ... \u001b[?25ldone\n",
      "\u001b[?25hBuilding wheels for collected packages: docopt\n",
      "  Building wheel for docopt (setup.py) ... \u001b[?25ldone\n",
      "\u001b[?25h  Created wheel for docopt: filename=docopt-0.6.2-py2.py3-none-any.whl size=13706 sha256=5aac30af95709d1f7f2de152e1a6b8b0e29179aae5bd00a7c509aadb6326c10b\n",
      "  Stored in directory: /Users/yaenchen/Library/Caches/pip/wheels/4e/29/5e/e5f6f558e24e0d70f6808e3e8fdaf2c04ff597233098afc550\n",
      "Successfully built docopt\n",
      "Installing collected packages: docopt, seqparser\n",
      "Successfully installed docopt-0.6.2 seqparser-1.1.2\n",
      "Note: you may need to restart the kernel to use updated packages.\n"
     ]
    }
   ],
   "source": [
    "pip install seqparser"
   ]
  },
  {
   "cell_type": "code",
   "execution_count": 49,
   "id": "3a2a7c10-7ff8-4c66-b95e-473aef167255",
   "metadata": {},
   "outputs": [
    {
     "name": "stdout",
     "output_type": "stream",
     "text": [
      "100\n",
      "100\n",
      "100\n",
      "100\n",
      "100\n",
      "100\n",
      "100\n",
      "100\n",
      "100\n",
      "100\n",
      "100\n",
      "100\n",
      "100\n",
      "100\n",
      "100\n",
      "100\n",
      "100\n",
      "100\n",
      "100\n",
      "100\n",
      "100\n",
      "100\n",
      "100\n",
      "100\n",
      "100\n",
      "100\n",
      "100\n",
      "100\n",
      "100\n",
      "100\n",
      "100\n",
      "100\n",
      "100\n",
      "100\n",
      "100\n",
      "100\n",
      "100\n",
      "100\n",
      "100\n",
      "100\n",
      "100\n",
      "100\n",
      "100\n",
      "100\n",
      "100\n",
      "100\n",
      "100\n",
      "100\n",
      "100\n",
      "100\n",
      "100\n",
      "100\n",
      "100\n",
      "100\n",
      "100\n",
      "100\n",
      "100\n",
      "100\n",
      "100\n",
      "100\n",
      "100\n",
      "100\n",
      "100\n",
      "100\n",
      "100\n",
      "100\n",
      "100\n",
      "100\n",
      "100\n",
      "100\n",
      "100\n",
      "100\n",
      "100\n",
      "100\n",
      "100\n",
      "100\n",
      "100\n",
      "100\n",
      "100\n",
      "100\n",
      "100\n",
      "100\n",
      "100\n",
      "100\n",
      "100\n",
      "100\n",
      "100\n",
      "100\n",
      "100\n",
      "100\n",
      "100\n",
      "100\n",
      "100\n",
      "100\n",
      "100\n",
      "100\n",
      "100\n",
      "100\n",
      "100\n",
      "100\n"
     ]
    }
   ],
   "source": [
    "fastq_parsed_data = FastqParser(\"./data/test.fq\")\n",
    "for item in fastq_parsed_data:\n",
    "    print(len(item[1]))\n"
   ]
  },
  {
   "cell_type": "code",
   "execution_count": null,
   "id": "a67e69f4-6cc7-46ed-8ccd-386514a1732a",
   "metadata": {},
   "outputs": [],
   "source": [
    "!wc-l ./data/test.fa # ! lets you pretend to be in a terminal!"
   ]
  }
 ],
 "metadata": {
  "kernelspec": {
   "display_name": "Python 3 (ipykernel)",
   "language": "python",
   "name": "python3"
  },
  "language_info": {
   "codemirror_mode": {
    "name": "ipython",
    "version": 3
   },
   "file_extension": ".py",
   "mimetype": "text/x-python",
   "name": "python",
   "nbconvert_exporter": "python",
   "pygments_lexer": "ipython3",
   "version": "3.9.7"
  }
 },
 "nbformat": 4,
 "nbformat_minor": 5
}
