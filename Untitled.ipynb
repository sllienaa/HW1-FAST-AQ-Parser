{
 "cells": [
  {
   "cell_type": "code",
   "execution_count": null,
   "id": "06828e9c-3bb8-447c-9929-d5bbde2e65d4",
   "metadata": {},
   "outputs": [],
   "source": [
    "%load_ext autoreload # reloads the file constantly so you don't need to reset\n",
    "%autoreload 2"
   ]
  },
  {
   "cell_type": "code",
   "execution_count": 2,
   "id": "a6e90b31-f335-47a6-9652-6c12c8a71946",
   "metadata": {},
   "outputs": [
    {
     "ename": "ModuleNotFoundError",
     "evalue": "No module named 'seqparser'",
     "output_type": "error",
     "traceback": [
      "\u001b[0;31m---------------------------------------------------------------------------\u001b[0m",
      "\u001b[0;31mModuleNotFoundError\u001b[0m                       Traceback (most recent call last)",
      "\u001b[0;32m/var/folders/_6/b1pdmyk521d72xnz93qbdvcr0000gn/T/ipykernel_41917/871605600.py\u001b[0m in \u001b[0;36m<module>\u001b[0;34m\u001b[0m\n\u001b[0;32m----> 1\u001b[0;31m \u001b[0;32mimport\u001b[0m \u001b[0mseqparser\u001b[0m\u001b[0;34m\u001b[0m\u001b[0;34m\u001b[0m\u001b[0m\n\u001b[0m",
      "\u001b[0;31mModuleNotFoundError\u001b[0m: No module named 'seqparser'"
     ]
    }
   ],
   "source": [
    "import seqparser"
   ]
  },
  {
   "cell_type": "code",
   "execution_count": null,
   "id": "d47e8f52-12ff-4bbe-8867-f00bdf88b7db",
   "metadata": {},
   "outputs": [],
   "source": [
    "parser = seqparser.FastaParser(\"./data/test.fa\""
   ]
  },
  {
   "cell_type": "code",
   "execution_count": null,
   "id": "3e8888a4-bd46-456d-85da-faea1197af25",
   "metadata": {},
   "outputs": [],
   "source": [
    "for seq in parser:\n",
    "    print(seq)"
   ]
  },
  {
   "cell_type": "code",
   "execution_count": null,
   "id": "a67e69f4-6cc7-46ed-8ccd-386514a1732a",
   "metadata": {},
   "outputs": [],
   "source": [
    "!wc-l ./data/test.fa # ! lets you pretend to be in a terminal!"
   ]
  }
 ],
 "metadata": {
  "kernelspec": {
   "display_name": "Python 3 (ipykernel)",
   "language": "python",
   "name": "python3"
  },
  "language_info": {
   "codemirror_mode": {
    "name": "ipython",
    "version": 3
   },
   "file_extension": ".py",
   "mimetype": "text/x-python",
   "name": "python",
   "nbconvert_exporter": "python",
   "pygments_lexer": "ipython3",
   "version": "3.9.7"
  }
 },
 "nbformat": 4,
 "nbformat_minor": 5
}
